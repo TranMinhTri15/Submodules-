{
 "cells": [
  {
   "cell_type": "code",
   "execution_count": 5,
   "id": "629a6464-9fbd-441f-81bb-03fc5edf11e6",
   "metadata": {},
   "outputs": [],
   "source": [
    "import pandas as pd\n",
    "import numpy as np\n",
    "import pandas_ta as ta\n",
    "import datetime as dt\n",
    "\n",
    "# Import data\n",
    "hsx = pd.read_csv('CafeF.HSX.Upto06.09.2024.csv', parse_dates=['<DTYYYYMMDD>'])\n",
    "hnx = pd.read_csv('CafeF.HNX.Upto06.09.2024.csv', parse_dates=['<DTYYYYMMDD>'])\n",
    "upcom = pd.read_csv('CafeF.UpCom.Upto06.09.2024.csv', parse_dates=['<DTYYYYMMDD>'])\n",
    "\n",
    "# 1Y data\n",
    "date_filter = hsx['<DTYYYYMMDD>'].unique()[:252]\n",
    "hsx_252 = hsx[hsx['<DTYYYYMMDD>'].isin(date_filter)]\n",
    "hnx_252 = hnx[hnx['<DTYYYYMMDD>'].isin(date_filter)]\n",
    "upcom_252 = upcom[upcom['<DTYYYYMMDD>'].isin(date_filter)]\n",
    "\n",
    "# Data processing\n",
    "df_raw = pd.concat([hsx_252, hnx_252, upcom_252])\n",
    "df_raw.rename(columns = {'<DTYYYYMMDD>': 'Date', '<Ticker>': 'Ticker', '<Close>': 'Close','<Volume>':'Volume', '<Open>': 'Open', '<High>' : 'High', '<Low>' : 'Low'}, inplace=True)\n",
    "df_raw.sort_values(by = ['Ticker','Date'], ascending=True, inplace=True)\n",
    "df_raw['Ticker length'] = df_raw['Ticker'].str.len()\n",
    "df = df_raw[df_raw['Ticker length'] < 4].drop(labels = 'Ticker length', axis = 1)\n",
    "df=df.reset_index(drop=True)"
   ]
  },
  {
   "cell_type": "code",
   "execution_count": 35,
   "id": "0fbb3be3-3a5f-43e4-86a1-5ace136395a2",
   "metadata": {},
   "outputs": [],
   "source": [
    "##### MFI đi vào vùng quá mua/bán\n",
    "# MFI đi vào vùng quá mua\n",
    "def mfi_move_into_overbuy():\n",
    "    df['mfi'] = ta.mfi(df['High'], df['Low'], df['Close'], df['Volume'], length=14)\n",
    "    today = df['Date'].iloc[-1]\n",
    "    yesterday = df['Date'].iloc[-2]\n",
    "    df['MFI Overbuy'] = df['mfi'] > 80\n",
    "    mfi_yesterday = df[(df['Date'] == yesterday) & (df['MFI Overbuy'] == False)][['Ticker']]\n",
    "    mfi_today = df[(df['Date'] == today) & (df['MFI Overbuy'] == True)][['Ticker']]\n",
    "    mfi_ticker_overbuy = mfi_today.merge(mfi_yesterday, on = 'Ticker')\n",
    "    return mfi_ticker_overbuy['Ticker'].unique()\n",
    "\n",
    "#MFI đi vào vùng quá bán\n",
    "def mfi_move_into_oversell():\n",
    "    df['mfi'] = ta.mfi(df['High'], df['Low'], df['Close'], df['Volume'], length=14)\n",
    "    today = df['Date'].iloc[-1]\n",
    "    yesterday = df['Date'].iloc[-2]\n",
    "    df['MFI Oversell'] = df['mfi'] < 20\n",
    "    mfi_yesterday = df[(df['Date'] == yesterday) & (df['MFI Oversell'] == False)][['Ticker']]\n",
    "    mfi_today = df[(df['Date'] == today) & (df['MFI Oversell'] == True)][['Ticker']]\n",
    "    mfi_ticker_overbuy = mfi_today.merge(mfi_yesterday, on = 'Ticker')\n",
    "    return mfi_ticker_overbuy['Ticker'].unique()\n",
    "\n",
    "\n",
    "#####MFI thoát khỏi vùng quá mua/bán\n",
    "# MFI thoát khỏi vùng quá mua\n",
    "def mfi_move_out_overbuy():\n",
    "    df['mfi'] = ta.mfi(df['High'], df['Low'], df['Close'], df['Volume'], length=14)\n",
    "    today = df['Date'].iloc[-1]\n",
    "    yesterday = df['Date'].iloc[-2]\n",
    "    df['MFI Overbuy'] = df['mfi'] > 80\n",
    "    mfi_yesterday = df[(df['Date'] == yesterday) & (df['MFI Overbuy'] == True)][['Ticker']]\n",
    "    mfi_today = df[(df['Date'] == today) & (df['MFI Overbuy'] == False)][['Ticker']]\n",
    "    mfi_ticker_overbuy = mfi_today.merge(mfi_yesterday, on = 'Ticker')\n",
    "    return mfi_ticker_overbuy['Ticker'].unique()\n",
    "\n",
    "# MFI thoát khỏi vùng quá bán\n",
    "def mfi_move_out_oversell():\n",
    "    df['mfi'] = ta.mfi(df['High'], df['Low'], df['Close'], df['Volume'], length=14)\n",
    "    today = df['Date'].iloc[-1]\n",
    "    yesterday = df['Date'].iloc[-2]\n",
    "    df['MFI Overbuy'] = df['mfi'] < 20\n",
    "    mfi_yesterday = df[(df['Date'] == yesterday) & (df['MFI Overbuy'] == True)][['Ticker']]\n",
    "    mfi_today = df[(df['Date'] == today) & (df['MFI Overbuy'] == False)][['Ticker']]\n",
    "    mfi_ticker_overbuy = mfi_today.merge(mfi_yesterday, on = 'Ticker')\n",
    "    return mfi_ticker_overbuy['Ticker'].unique()\n",
    "\n",
    "\n",
    "#####MFI đang ở trong vùng quá mua/bán\n",
    "# MFI đang ở trong vùng quá mua 2 ngày liên tục\n",
    "def mfi_in_overbuy():\n",
    "    df['mfi'] = ta.mfi(df['High'], df['Low'], df['Close'], df['Volume'], length=14)\n",
    "    today = df['Date'].iloc[-1]\n",
    "    yesterday = df['Date'].iloc[-2]\n",
    "    df['MFI Overbuy'] = df['mfi'] > 80\n",
    "    mfi_yesterday = df[(df['Date'] == yesterday) & (df['MFI Overbuy'] == True)][['Ticker']]\n",
    "    mfi_today = df[(df['Date'] == today) & (df['MFI Overbuy'] == True)][['Ticker']]\n",
    "    mfi_ticker_overbuy = mfi_today.merge(mfi_yesterday, on = 'Ticker')\n",
    "    return mfi_ticker_overbuy['Ticker'].unique()\n",
    "\n",
    "# MFI đang ở trong vùng quá bán 2 ngày liên tục\n",
    "def mfi_in_oversell():\n",
    "    df['mfi'] = ta.mfi(df['High'], df['Low'], df['Close'], df['Volume'], length=14)\n",
    "    today = df['Date'].iloc[-1]\n",
    "    yesterday = df['Date'].iloc[-2]\n",
    "    df['MFI Overbuy'] = df['mfi'] < 20\n",
    "    mfi_yesterday = df[(df['Date'] == yesterday) & (df['MFI Overbuy'] == True)][['Ticker']]\n",
    "    mfi_today = df[(df['Date'] == today) & (df['MFI Overbuy'] == True)][['Ticker']]\n",
    "    mfi_ticker_overbuy = mfi_today.merge(mfi_yesterday, on = 'Ticker')\n",
    "    return mfi_ticker_overbuy['Ticker'].unique()"
   ]
  },
  {
   "cell_type": "code",
   "execution_count": 49,
   "id": "9391b06f-5aed-4392-9af9-37eb9bd30112",
   "metadata": {},
   "outputs": [
    {
     "name": "stderr",
     "output_type": "stream",
     "text": [
      "C:\\Users\\MSI-PC\\AppData\\Local\\Temp\\ipykernel_14540\\288722699.py:63: FutureWarning: Setting an item of incompatible dtype is deprecated and will raise an error in a future version of pandas. Value '[6.23005067e+03 2.98917667e+03 8.90414000e+01 ... 2.46410200e+05\n",
      " 5.28025100e+05 8.22551600e+05]' has dtype incompatible with int64, please explicitly cast to a compatible dtype first.\n",
      "  df['mfi'] = ta.mfi(df['High'], df['Low'], df['Close'], df['Volume'], length=14)\n",
      "C:\\Users\\MSI-PC\\AppData\\Local\\Temp\\ipykernel_14540\\288722699.py:63: FutureWarning: Setting an item of incompatible dtype is deprecated and will raise an error in a future version of pandas. Value '[14824.5065     14779.83333333 10374.56       ... 61985.\n",
      " 90936.3        13662.        ]' has dtype incompatible with int64, please explicitly cast to a compatible dtype first.\n",
      "  df['mfi'] = ta.mfi(df['High'], df['Low'], df['Close'], df['Volume'], length=14)\n"
     ]
    },
    {
     "data": {
      "text/plain": [
       "array(['APC', 'APH', 'APP', 'ASG', 'BCE', 'BIC', 'BMJ', 'BT1', 'CDC',\n",
       "       'CI5', 'CQT', 'DAS', 'DC2', 'DTG', 'DVP', 'E29', 'EPC', 'FIC',\n",
       "       'GEE', 'HAV', 'HDA', 'HSM', 'ISH', 'LHC', 'LPT', 'MGR', 'MIC',\n",
       "       'ND2', 'NDX', 'PCT', 'PDN', 'PSE', 'PTD', 'PV2', 'SDD', 'SDK',\n",
       "       'SJM', 'TMP', 'TMS', 'TRA', 'TTD', 'UNI', 'VBC', 'VNP', 'VSH',\n",
       "       'VTA', 'XMC'], dtype=object)"
      ]
     },
     "execution_count": 49,
     "metadata": {},
     "output_type": "execute_result"
    }
   ],
   "source": [
    "mfi_in_oversell()"
   ]
  }
 ],
 "metadata": {
  "kernelspec": {
   "display_name": "Python 3 (ipykernel)",
   "language": "python",
   "name": "python3"
  },
  "language_info": {
   "codemirror_mode": {
    "name": "ipython",
    "version": 3
   },
   "file_extension": ".py",
   "mimetype": "text/x-python",
   "name": "python",
   "nbconvert_exporter": "python",
   "pygments_lexer": "ipython3",
   "version": "3.12.4"
  }
 },
 "nbformat": 4,
 "nbformat_minor": 5
}
