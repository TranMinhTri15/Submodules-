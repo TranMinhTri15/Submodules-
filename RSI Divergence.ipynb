{
 "cells": [
  {
   "cell_type": "code",
   "execution_count": 1,
   "id": "c714a9c1-05e8-4ae3-8fd7-41e92bc7ea64",
   "metadata": {},
   "outputs": [
    {
     "name": "stdin",
     "output_type": "stream",
     "text": [
      "Hãy nhập ngày dữ liệu để download từ Cafef (format - ddmmyyyy): 10092024\n",
      "Hãy nhập volume tối thiểu mà cổ phiếu cần đạt:  25000\n",
      "Khoảng thời gian xem xét phân kỳ (không được lớn hơn 252 ngày):  50\n"
     ]
    },
    {
     "name": "stdout",
     "output_type": "stream",
     "text": [
      "Phan ky duong RSI \n",
      " ['ABI', 'BAF', 'BSI', 'BVH', 'BWE', 'CCL', 'CTR', 'DAH', 'DCM', 'DGC', 'DGW', 'DRC', 'DRH', 'EIB', 'ELC', 'EVF', 'EVG', 'FCM', 'FTS', 'GAS', 'GVR', 'HCD', 'HD6', 'HHP', 'HPG', 'HQC', 'ILA', 'KVC', 'MHC', 'NHH', 'NT2', 'ORS', 'PDR', 'PFL', 'POW', 'QNS', 'REE', 'SAB', 'SGR', 'SMC', 'SSH', 'SSI', 'TCH', 'TCL', 'TCO', 'TEG', 'TLH', 'TNA', 'TNT', 'VCI', 'VDS', 'VGI', 'VIX', 'VLC', 'VNB', 'VNE', 'VOS', 'YEG']\n"
     ]
    },
    {
     "ename": "NameError",
     "evalue": "name 'bullish_macd_shares' is not defined",
     "output_type": "error",
     "traceback": [
      "\u001b[1;31m---------------------------------------------------------------------------\u001b[0m",
      "\u001b[1;31mNameError\u001b[0m                                 Traceback (most recent call last)",
      "Cell \u001b[1;32mIn[1], line 83\u001b[0m\n\u001b[0;32m     81\u001b[0m \u001b[38;5;66;03m# Print the result\u001b[39;00m\n\u001b[0;32m     82\u001b[0m \u001b[38;5;28mprint\u001b[39m(\u001b[38;5;124m'\u001b[39m\u001b[38;5;124mPhan ky duong RSI\u001b[39m\u001b[38;5;124m'\u001b[39m, \u001b[38;5;124m'\u001b[39m\u001b[38;5;130;01m\\n\u001b[39;00m\u001b[38;5;124m'\u001b[39m, bullish_rsi)\n\u001b[1;32m---> 83\u001b[0m \u001b[38;5;28mprint\u001b[39m(\u001b[38;5;124m'\u001b[39m\u001b[38;5;124mPhan ky duong MACD\u001b[39m\u001b[38;5;124m'\u001b[39m, \u001b[38;5;124m'\u001b[39m\u001b[38;5;130;01m\\n\u001b[39;00m\u001b[38;5;124m'\u001b[39m, bullish_macd_shares)\n",
      "\u001b[1;31mNameError\u001b[0m: name 'bullish_macd_shares' is not defined"
     ]
    }
   ],
   "source": [
    "# Input date\n",
    "d1 = input('Hãy nhập ngày dữ liệu để download từ Cafef (format - ddmmyyyy):')\n",
    "day = d1[0:2]\n",
    "month = d1[2:4]\n",
    "year = d1[-4:]\n",
    "d2 = day + '.' + month + '.' + year\n",
    "d0 = int(year + month + day)\n",
    "\n",
    "# Import library\n",
    "import pandas as pd\n",
    "import numpy as np\n",
    "import pandas_ta as ta\n",
    "import webbrowser\n",
    "from zipfile import ZipFile\n",
    "import time\n",
    "\n",
    "# Download price data\n",
    "try:\n",
    "    webbrowser.open(f'https://cafef1.mediacdn.vn/data/ami_data/{d0}/CafeF.SolieuGD.Upto{d1}.zip')\n",
    "except:\n",
    "    None\n",
    "\n",
    "# Delay the execution\n",
    "time.sleep(10)\n",
    "\n",
    "# Move file\n",
    "try:\n",
    "    with ZipFile(f'C:/Users/MSI-PC/Downloads/CafeF.SolieuGD.Upto{d1}.zip', 'r') as zObject:\n",
    "        zObject.extractall(path='C:/Users/MSI-PC/Fiflow/Data')\n",
    "except:\n",
    "    None\n",
    "\n",
    "# Read data - Data Manipulation\n",
    "data_folder = 'C:/Users/MSI-PC/Fiflow/Data'\n",
    "hsx = pd.read_csv(f'{data_folder}/CafeF.HSX.Upto{d2}.csv', parse_dates=['<DTYYYYMMDD>'])\n",
    "hnx = pd.read_csv(f'{data_folder}/CafeF.HNX.Upto{d2}.csv', parse_dates=['<DTYYYYMMDD>'])\n",
    "upcom = pd.read_csv(f'{data_folder}/CafeF.UpCom.Upto{d2}.csv', parse_dates=['<DTYYYYMMDD>'])\n",
    "\n",
    "# 1Y data\n",
    "date_filter = hsx['<DTYYYYMMDD>'].unique()[:252]\n",
    "hsx_252 = hsx[hsx['<DTYYYYMMDD>'].isin(date_filter)]\n",
    "hnx_252 = hnx[hnx['<DTYYYYMMDD>'].isin(date_filter)]\n",
    "upcom_252 = upcom[upcom['<DTYYYYMMDD>'].isin(date_filter)]\n",
    "\n",
    "# Concatenate data\n",
    "df_raw = pd.concat([hsx_252, hnx_252, upcom_252]).sort_values(by=['<Ticker>', '<DTYYYYMMDD>']).reset_index()\n",
    "\n",
    "# Equity stock will have 3 letters as the ticker\n",
    "df_raw['Ticker Length'] = df_raw['<Ticker>'].str.len()\n",
    "\n",
    "# Drop tickers which are not equity stock\n",
    "df = df_raw[df_raw['Ticker Length']<4].drop(labels='Ticker Length', axis=1)\n",
    "\n",
    "# Criteria\n",
    "vol_criteria = float(input('Hãy nhập volume tối thiểu mà cổ phiếu cần đạt: '))\n",
    "number_of_days = int(input('Khoảng thời gian xem xét phân kỳ (không được lớn hơn 252 ngày): '))\n",
    "\n",
    "# RSI calculation\n",
    "df['rsi'] = ta.rsi(df['<Close>'], 14)\n",
    "df_rsi = df.pivot_table(index='<DTYYYYMMDD>', columns='<Ticker>', values='rsi').dropna(axis=1).tail(number_of_days)\n",
    "\n",
    "# Time delta for removing stocks have 2 consecutive days of divergence\n",
    "timedelta = df_rsi.index[-1] - df_rsi.index[-2]\n",
    "\n",
    "# RSI bullish divergence\n",
    "bullish_rsi_shares = []\n",
    "for i in range(len(df_rsi.columns)):\n",
    "    ticker = df_rsi.columns[i]\n",
    "    rsi = df_rsi[ticker].nsmallest(2)\n",
    "    stock = df[df['<Ticker>'] == ticker]\n",
    "    result = stock[stock['rsi'].isin(rsi)][['<DTYYYYMMDD>', '<Low>', 'rsi', '<Volume>']]\n",
    "    if result['<Volume>'].iloc[0] < vol_criteria:\n",
    "        None\n",
    "    elif result['<DTYYYYMMDD>'].iloc[1] - result['<DTYYYYMMDD>'].iloc[0] == timedelta:\n",
    "        bullish_rsi_shares.append('No')\n",
    "    elif result['rsi'].iloc[1] > result['rsi'].iloc[0] and result['<Low>'].iloc[1] < result['<Low>'].iloc[0]:\n",
    "        bullish_rsi_shares.append(ticker)\n",
    "\n",
    "bullish_rsi = [ele for ele in bullish_rsi_shares if ele != 'No']\n",
    "\n",
    "# Print the result\n",
    "print('Phan ky duong RSI', '\\n', bullish_rsi)"
   ]
  }
 ],
 "metadata": {
  "kernelspec": {
   "display_name": "Python 3 (ipykernel)",
   "language": "python",
   "name": "python3"
  },
  "language_info": {
   "codemirror_mode": {
    "name": "ipython",
    "version": 3
   },
   "file_extension": ".py",
   "mimetype": "text/x-python",
   "name": "python",
   "nbconvert_exporter": "python",
   "pygments_lexer": "ipython3",
   "version": "3.12.4"
  }
 },
 "nbformat": 4,
 "nbformat_minor": 5
}
